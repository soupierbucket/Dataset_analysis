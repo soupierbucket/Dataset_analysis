{
 "cells": [
  {
   "cell_type": "markdown",
   "metadata": {},
   "source": [
    "## HA-20 IGN game review data analysis Read the ign.csv file and find the following. \n",
    " \n",
    "1. Number of games having more than 7 score \n",
    "2. How many got the editor choice along with year and more conditions \n",
    "3. Which genre has the maximum score \n",
    "4. Which game has the maximum score \n",
    "5. Which platform has the highest score \n",
    "6. Average score of xbox platform\n",
    "7. Which year had the most releases\n",
    " \n",
    "Also plot the following: \n",
    "1. Bar graph of score category\n",
    "2. Bar graph of editor choice \n",
    "3. Bar graph of genre"
    "Do all the above changes"
   ]
  },
  {
   "cell_type": "code",
   "execution_count": 18,
   "metadata": {},
   "outputs": [
    {
     "data": {
      "text/html": [
       "<div>\n",
       "<style scoped>\n",
       "    .dataframe tbody tr th:only-of-type {\n",
       "        vertical-align: middle;\n",
       "    }\n",
       "\n",
       "    .dataframe tbody tr th {\n",
       "        vertical-align: top;\n",
       "    }\n",
       "\n",
       "    .dataframe thead th {\n",
       "        text-align: right;\n",
       "    }\n",
       "</style>\n",
       "<table border=\"1\" class=\"dataframe\">\n",
       "  <thead>\n",
       "    <tr style=\"text-align: right;\">\n",
       "      <th></th>\n",
       "      <th>Unnamed: 0</th>\n",
       "      <th>score_phrase</th>\n",
       "      <th>title</th>\n",
       "      <th>url</th>\n",
       "      <th>platform</th>\n",
       "      <th>score</th>\n",
       "      <th>genre</th>\n",
       "      <th>editors_choice</th>\n",
       "      <th>release_year</th>\n",
       "      <th>release_month</th>\n",
       "      <th>release_day</th>\n",
       "    </tr>\n",
       "  </thead>\n",
       "  <tbody>\n",
       "    <tr>\n",
       "      <th>18620</th>\n",
       "      <td>18620</td>\n",
       "      <td>Good</td>\n",
       "      <td>Tokyo Mirage Sessions #FE</td>\n",
       "      <td>/games/fire-emblem-x-shin-megami-tensei/wii-u-...</td>\n",
       "      <td>Wii U</td>\n",
       "      <td>7.6</td>\n",
       "      <td>RPG</td>\n",
       "      <td>N</td>\n",
       "      <td>2016</td>\n",
       "      <td>6</td>\n",
       "      <td>29</td>\n",
       "    </tr>\n",
       "    <tr>\n",
       "      <th>18621</th>\n",
       "      <td>18621</td>\n",
       "      <td>Amazing</td>\n",
       "      <td>LEGO Star Wars: The Force Awakens</td>\n",
       "      <td>/games/lego-star-wars-the-force-awakens/ps4-20...</td>\n",
       "      <td>PlayStation 4</td>\n",
       "      <td>9.0</td>\n",
       "      <td>Action, Adventure</td>\n",
       "      <td>Y</td>\n",
       "      <td>2016</td>\n",
       "      <td>6</td>\n",
       "      <td>29</td>\n",
       "    </tr>\n",
       "    <tr>\n",
       "      <th>18622</th>\n",
       "      <td>18622</td>\n",
       "      <td>Mediocre</td>\n",
       "      <td>Star Ocean: Integrity and Faithlessness</td>\n",
       "      <td>/games/star-ocean-5/ps4-20035681</td>\n",
       "      <td>PlayStation 4</td>\n",
       "      <td>5.8</td>\n",
       "      <td>RPG</td>\n",
       "      <td>N</td>\n",
       "      <td>2016</td>\n",
       "      <td>6</td>\n",
       "      <td>28</td>\n",
       "    </tr>\n",
       "    <tr>\n",
       "      <th>18623</th>\n",
       "      <td>18623</td>\n",
       "      <td>Masterpiece</td>\n",
       "      <td>Inside</td>\n",
       "      <td>/games/inside-playdead/xbox-one-121435</td>\n",
       "      <td>Xbox One</td>\n",
       "      <td>10.0</td>\n",
       "      <td>Adventure</td>\n",
       "      <td>Y</td>\n",
       "      <td>2016</td>\n",
       "      <td>6</td>\n",
       "      <td>28</td>\n",
       "    </tr>\n",
       "    <tr>\n",
       "      <th>18624</th>\n",
       "      <td>18624</td>\n",
       "      <td>Masterpiece</td>\n",
       "      <td>Inside</td>\n",
       "      <td>/games/inside-playdead/pc-20055740</td>\n",
       "      <td>PC</td>\n",
       "      <td>10.0</td>\n",
       "      <td>Adventure</td>\n",
       "      <td>Y</td>\n",
       "      <td>2016</td>\n",
       "      <td>6</td>\n",
       "      <td>28</td>\n",
       "    </tr>\n",
       "  </tbody>\n",
       "</table>\n",
       "</div>"
      ],
      "text/plain": [
       "       Unnamed: 0 score_phrase                                    title  \\\n",
       "18620       18620         Good                Tokyo Mirage Sessions #FE   \n",
       "18621       18621      Amazing        LEGO Star Wars: The Force Awakens   \n",
       "18622       18622     Mediocre  Star Ocean: Integrity and Faithlessness   \n",
       "18623       18623  Masterpiece                                   Inside   \n",
       "18624       18624  Masterpiece                                   Inside   \n",
       "\n",
       "                                                     url       platform  \\\n",
       "18620  /games/fire-emblem-x-shin-megami-tensei/wii-u-...          Wii U   \n",
       "18621  /games/lego-star-wars-the-force-awakens/ps4-20...  PlayStation 4   \n",
       "18622                   /games/star-ocean-5/ps4-20035681  PlayStation 4   \n",
       "18623             /games/inside-playdead/xbox-one-121435       Xbox One   \n",
       "18624                 /games/inside-playdead/pc-20055740             PC   \n",
       "\n",
       "       score              genre editors_choice  release_year  release_month  \\\n",
       "18620    7.6                RPG              N          2016              6   \n",
       "18621    9.0  Action, Adventure              Y          2016              6   \n",
       "18622    5.8                RPG              N          2016              6   \n",
       "18623   10.0          Adventure              Y          2016              6   \n",
       "18624   10.0          Adventure              Y          2016              6   \n",
       "\n",
       "       release_day  \n",
       "18620           29  \n",
       "18621           29  \n",
       "18622           28  \n",
       "18623           28  \n",
       "18624           28  "
      ]
     },
     "execution_count": 18,
     "metadata": {},
     "output_type": "execute_result"
    }
   ],
   "source": [
    "import pandas as pd\n",
    "df = pd.read_csv(\"ign.csv\")\n",
    "data=df\n",
    "df.head()\n",
    "df.tail()\n"
   ]
  },
  {
   "cell_type": "markdown",
   "metadata": {},
   "source": [
    "## 1.Number of games having more than 7 score"
   ]
  },
  {
   "cell_type": "code",
   "execution_count": 19,
   "metadata": {},
   "outputs": [
    {
     "name": "stdout",
     "output_type": "stream",
     "text": [
      "True     9800\n",
      "False    8825\n",
      "Name: score, dtype: int64\n"
     ]
    }
   ],
   "source": [
    "more_than_seven= data['score']>7\n",
    "print((more_than_seven).value_counts())"
   ]
  },
  {
   "cell_type": "markdown",
   "metadata": {},
   "source": [
    "## 2.How many got the editor choice along with year and more conditions"
   ]
  },
  {
   "cell_type": "code",
   "execution_count": 20,
   "metadata": {},
   "outputs": [
    {
     "name": "stdout",
     "output_type": "stream",
     "text": [
      "{1996: 8, 1997: 16, 1998: 43, 1999: 100, 2000: 167, 2001: 173, 2002: 228, 2003: 267, 2004: 254, 2005: 243, 2006: 167, 2007: 232, 2008: 252, 2009: 281, 2010: 270, 2011: 255, 2012: 210, 2013: 138, 2014: 97, 2015: 71, 2016: 45}\n"
     ]
    }
   ],
   "source": [
    "dict1={}\n",
    "data1=data[data['editors_choice']=='Y']\n",
    "data2=data1[['editors_choice', 'release_year']]\n",
    "#editors_choice= data['editors_choice']=='Y'\n",
    "#print(editors_choice.value_counts())\n",
    "for i, j in data2.groupby(['release_year']):\n",
    "    \n",
    "    dict1[i]=j['editors_choice'].count()\n",
    "print(dict1)\n",
    "    "
   ]
  },
  {
   "cell_type": "markdown",
   "metadata": {},
   "source": [
    "## 3.Which genre has the maximum score"
   ]
  },
  {
   "cell_type": "code",
   "execution_count": 21,
   "metadata": {},
   "outputs": [
    {
     "data": {
      "text/plain": [
       "array(['Platformer', 'Puzzle', 'Sports', 'Strategy', 'Fighting', 'RPG',\n",
       "       nan, 'Action, Adventure', 'Adventure', 'Action', 'Action, RPG',\n",
       "       'Shooter', 'Music', 'Board', 'Racing', 'Strategy, RPG',\n",
       "       'Racing, Action', 'Shooter, RPG', 'Simulation',\n",
       "       'Action, Simulation', 'Flight, Action', 'Puzzle, Action',\n",
       "       'Action, Compilation', 'Educational, Puzzle', 'Wrestling',\n",
       "       'Fighting, Action', 'Productivity', 'Sports, Simulation',\n",
       "       'Music, Action', 'Sports, Action', 'Party', 'Battle',\n",
       "       'Puzzle, Adventure', 'Puzzle, Word Game', 'Card, Battle',\n",
       "       'Simulation, Adventure', 'Compilation', 'Flight', 'Pinball',\n",
       "       'Hunting', 'Casino', 'Sports, Racing', 'Fighting, Compilation',\n",
       "       'Flight, Simulation', 'Trivia', 'Action, Platformer', 'Other',\n",
       "       'Virtual Pet', 'Music, Editor', 'Sports, Editor',\n",
       "       'Racing, Simulation', 'RPG, Editor', 'Educational, Action', 'Card',\n",
       "       'Card, RPG', 'Wrestling, Simulation', 'Fighting, Adventure',\n",
       "       'Sports, Compilation', 'RPG, Compilation', 'Flight, Racing',\n",
       "       'RPG, Simulation', 'Shooter, Platformer', 'Fighting, RPG',\n",
       "       'Card, Compilation', 'Hunting, Simulation', 'Pinball, Compilation',\n",
       "       'Racing, Shooter', 'Racing, Editor', 'Other, Action',\n",
       "       'Racing, Compilation', 'Adult, Card', 'Puzzle, Compilation',\n",
       "       'Platformer, Action', 'Educational', 'Action, Editor',\n",
       "       'Board, Compilation', 'Hunting, Action', 'Educational, Trivia',\n",
       "       'Compilation, Compilation', 'Educational, Simulation',\n",
       "       'Educational, Productivity', 'Adventure, Compilation',\n",
       "       'Educational, Card', 'Educational, Adventure',\n",
       "       'Fighting, Simulation', 'Music, Compilation',\n",
       "       'Strategy, Compilation', 'Platformer, Adventure',\n",
       "       'Other, Adventure', 'Adventure, Episodic', 'Adventure, Adult',\n",
       "       'Puzzle, RPG', 'Sports, Fighting', 'Adventure, Platformer',\n",
       "       'Action, Puzzle', 'Sports, Other', 'Compilation, RPG',\n",
       "       'Shooter, First-Person', 'Adventure, Adventure', 'Sports, Party',\n",
       "       'Sports, Baseball', 'Baseball', 'Music, RPG',\n",
       "       'Productivity, Action', 'RPG, Action', 'Adventure, RPG',\n",
       "       'Strategy, Simulation', 'Action, Strategy', 'Puzzle, Platformer',\n",
       "       'Music, Adventure', 'Sports, Golf', 'Hardware',\n",
       "       'Shooter, Adventure'], dtype=object)"
      ]
     },
     "execution_count": 21,
     "metadata": {},
     "output_type": "execute_result"
    }
   ],
   "source": [
    "df['genre'].unique()"
   ]
  },
  {
   "cell_type": "code",
   "execution_count": 22,
   "metadata": {},
   "outputs": [
    {
     "data": {
      "text/plain": [
       "Index(['Unnamed: 0', 'score_phrase', 'title', 'url', 'platform', 'score',\n",
       "       'genre', 'editors_choice', 'release_year', 'release_month',\n",
       "       'release_day'],\n",
       "      dtype='object')"
      ]
     },
     "execution_count": 22,
     "metadata": {},
     "output_type": "execute_result"
    }
   ],
   "source": [
    "data.columns"
   ]
  },
  {
   "cell_type": "code",
   "execution_count": 23,
   "metadata": {},
   "outputs": [
    {
     "name": "stdout",
     "output_type": "stream",
     "text": [
      "\n",
      " Max score is: 9.5\n",
      "\n",
      "Genre which has the maximum score: Compilation, Compilation\n"
     ]
    }
   ],
   "source": [
    "dict1={}\n",
    "data2=data[['genre', 'score']]\n",
    "for i, j in data2.groupby(data['genre']):\n",
    "    dict1[i]=j['score'].mean()\n",
    "a = max(dict1.values()) \n",
    "print('\\n Max score is:', a)\n",
    "for key in dict1:\n",
    "    if(dict1[key]==a):\n",
    "        print('\\nGenre which has the maximum score:',key)"
   ]
  },
  {
   "cell_type": "markdown",
   "metadata": {},
   "source": [
    "## 4.Which game has the maximum score"
   ]
  },
  {
   "cell_type": "code",
   "execution_count": 24,
   "metadata": {},
   "outputs": [
    {
     "name": "stdout",
     "output_type": "stream",
     "text": [
      "\n",
      " 10.0\n",
      "\n",
      "Game which has the maximum score: Checkered Flag\n",
      "\n",
      "Game which has the maximum score: Dragon Warrior III\n",
      "\n",
      "Game which has the maximum score: Grand Theft Auto IV (Special Edition)\n",
      "\n",
      "Game which has the maximum score: Grand Theft Auto V\n",
      "\n",
      "Game which has the maximum score: Infinity Blade II\n",
      "\n",
      "Game which has the maximum score: Inside\n",
      "\n",
      "Game which has the maximum score: Mario Golf [Game Boy Color]\n",
      "\n",
      "Game which has the maximum score: Metal Gear Solid 4: Guns of the Patriots\n",
      "\n",
      "Game which has the maximum score: Metal Gear Solid 4: Guns of the Patriots (Limited Edition)\n",
      "\n",
      "Game which has the maximum score: Metal Gear Solid V: The Phantom Pain\n",
      "\n",
      "Game which has the maximum score: Metal Gear Solid [2000]\n",
      "\n",
      "Game which has the maximum score: Pac-Man Championship Edition DX\n",
      "\n",
      "Game which has the maximum score: Pokemon Blue Version\n",
      "\n",
      "Game which has the maximum score: Pokemon Gold Version\n",
      "\n",
      "Game which has the maximum score: Pokemon Red Version\n",
      "\n",
      "Game which has the maximum score: Pokemon Silver Version\n",
      "\n",
      "Game which has the maximum score: Pokemon Yellow: Special Pikachu Edition\n",
      "\n",
      "Game which has the maximum score: Red Dead Redemption -- Undead Nightmare\n",
      "\n",
      "Game which has the maximum score: SNK vs. Capcom: Match of the Millennium\n",
      "\n",
      "Game which has the maximum score: Shanghai\n",
      "\n",
      "Game which has the maximum score: Sonic The Hedgehog: Pocket Adventure\n",
      "\n",
      "Game which has the maximum score: Super Mario Bros. Deluxe\n",
      "\n",
      "Game which has the maximum score: Super Mario Galaxy 2\n",
      "\n",
      "Game which has the maximum score: The Last of Us\n",
      "\n",
      "Game which has the maximum score: The Last of Us: Remastered\n",
      "\n",
      "Game which has the maximum score: The Legend of Zelda: Ocarina of Time\n",
      "\n",
      "Game which has the maximum score: The Legend of Zelda: Oracle of Ages\n",
      "\n",
      "Game which has the maximum score: The Legend of Zelda: Oracle of Seasons\n",
      "\n",
      "Game which has the maximum score: The Legend of Zelda: Skyward Sword\n",
      "\n",
      "Game which has the maximum score: The Witness\n",
      "\n",
      "Game which has the maximum score: Uncharted 3: Drake's Deception\n",
      "\n",
      "Game which has the maximum score: Undertale\n"
     ]
    }
   ],
   "source": [
    "dict1={}\n",
    "data2=data[['title', 'score']]\n",
    "for i, j in data2.groupby(data['title']):\n",
    "    dict1[i]=j['score'].mean()\n",
    "a = max(dict1.values()) \n",
    "print('\\n', a)\n",
    "for key in dict1:\n",
    "    if(dict1[key]==a):\n",
    "        print('\\nGame which has the maximum score:',key)"
   ]
  },
  {
   "cell_type": "markdown",
   "metadata": {},
   "source": [
    "## 5. Which platform has the highest score"
   ]
  },
  {
   "cell_type": "code",
   "execution_count": 25,
   "metadata": {},
   "outputs": [
    {
     "name": "stdout",
     "output_type": "stream",
     "text": [
      "\n",
      " 8.9\n",
      "\n",
      "Platform which has the highest score: SteamOS\n"
     ]
    }
   ],
   "source": [
    "dict1={}\n",
    "data2=data[['platform', 'score']]\n",
    "for i, j in data2.groupby(data['platform']):\n",
    "    dict1[i]=j['score'].mean()\n",
    "a = max(dict1.values()) \n",
    "print('\\n', a)\n",
    "for key in dict1:\n",
    "    if(dict1[key]==a):\n",
    "        print('\\nPlatform which has the highest score:',key)"
   ]
  },
  {
   "cell_type": "markdown",
   "metadata": {},
   "source": [
    "## 6.Average score of xbox platform"
   ]
  },
  {
   "cell_type": "code",
   "execution_count": 26,
   "metadata": {},
   "outputs": [
    {
     "name": "stdout",
     "output_type": "stream",
     "text": [
      "7.205602923264311\n",
      "7.105334150827714\n",
      "7.6557692307692315\n",
      "average score of Xbox platform is: 7.322235434953751\n"
     ]
    }
   ],
   "source": [
    "sum1=0\n",
    "dict1={}\n",
    "b=0\n",
    "c=0\n",
    "data2=data[['platform', 'score']]\n",
    "for i, j in data2.groupby(data['platform']):\n",
    "    if(i=='Xbox'):\n",
    "        a=j['score'].mean()\n",
    "        print(a)\n",
    "    elif(i=='Xbox 360'):\n",
    "        b=j['score'].mean()\n",
    "        print(b)\n",
    "    elif(i=='Xbox One'):\n",
    "        c=j['score'].mean()\n",
    "        print(c)\n",
    "    sum1=(a+b+c)/3\n",
    "print('average score of Xbox platform is:',sum1)\n"
   ]
  },
  {
   "cell_type": "markdown",
   "metadata": {},
   "source": [
    "## 7.Which year had the most releases"
   ]
  },
  {
   "cell_type": "code",
   "execution_count": 27,
   "metadata": {},
   "outputs": [
    {
     "data": {
      "text/html": [
       "<div>\n",
       "<style scoped>\n",
       "    .dataframe tbody tr th:only-of-type {\n",
       "        vertical-align: middle;\n",
       "    }\n",
       "\n",
       "    .dataframe tbody tr th {\n",
       "        vertical-align: top;\n",
       "    }\n",
       "\n",
       "    .dataframe thead th {\n",
       "        text-align: right;\n",
       "    }\n",
       "</style>\n",
       "<table border=\"1\" class=\"dataframe\">\n",
       "  <thead>\n",
       "    <tr style=\"text-align: right;\">\n",
       "      <th></th>\n",
       "      <th>Unnamed: 0</th>\n",
       "      <th>score_phrase</th>\n",
       "      <th>title</th>\n",
       "      <th>url</th>\n",
       "      <th>platform</th>\n",
       "      <th>score</th>\n",
       "      <th>genre</th>\n",
       "      <th>editors_choice</th>\n",
       "      <th>release_year</th>\n",
       "      <th>release_month</th>\n",
       "      <th>release_day</th>\n",
       "    </tr>\n",
       "  </thead>\n",
       "  <tbody>\n",
       "    <tr>\n",
       "      <th>0</th>\n",
       "      <td>0</td>\n",
       "      <td>Amazing</td>\n",
       "      <td>LittleBigPlanet PS Vita</td>\n",
       "      <td>/games/littlebigplanet-vita/vita-98907</td>\n",
       "      <td>PlayStation Vita</td>\n",
       "      <td>9.0</td>\n",
       "      <td>Platformer</td>\n",
       "      <td>Y</td>\n",
       "      <td>2012</td>\n",
       "      <td>9</td>\n",
       "      <td>12</td>\n",
       "    </tr>\n",
       "    <tr>\n",
       "      <th>1</th>\n",
       "      <td>1</td>\n",
       "      <td>Amazing</td>\n",
       "      <td>LittleBigPlanet PS Vita -- Marvel Super Hero E...</td>\n",
       "      <td>/games/littlebigplanet-ps-vita-marvel-super-he...</td>\n",
       "      <td>PlayStation Vita</td>\n",
       "      <td>9.0</td>\n",
       "      <td>Platformer</td>\n",
       "      <td>Y</td>\n",
       "      <td>2012</td>\n",
       "      <td>9</td>\n",
       "      <td>12</td>\n",
       "    </tr>\n",
       "    <tr>\n",
       "      <th>2</th>\n",
       "      <td>2</td>\n",
       "      <td>Great</td>\n",
       "      <td>Splice: Tree of Life</td>\n",
       "      <td>/games/splice/ipad-141070</td>\n",
       "      <td>iPad</td>\n",
       "      <td>8.5</td>\n",
       "      <td>Puzzle</td>\n",
       "      <td>N</td>\n",
       "      <td>2012</td>\n",
       "      <td>9</td>\n",
       "      <td>12</td>\n",
       "    </tr>\n",
       "    <tr>\n",
       "      <th>3</th>\n",
       "      <td>3</td>\n",
       "      <td>Great</td>\n",
       "      <td>NHL 13</td>\n",
       "      <td>/games/nhl-13/xbox-360-128182</td>\n",
       "      <td>Xbox 360</td>\n",
       "      <td>8.5</td>\n",
       "      <td>Sports</td>\n",
       "      <td>N</td>\n",
       "      <td>2012</td>\n",
       "      <td>9</td>\n",
       "      <td>11</td>\n",
       "    </tr>\n",
       "    <tr>\n",
       "      <th>4</th>\n",
       "      <td>4</td>\n",
       "      <td>Great</td>\n",
       "      <td>NHL 13</td>\n",
       "      <td>/games/nhl-13/ps3-128181</td>\n",
       "      <td>PlayStation 3</td>\n",
       "      <td>8.5</td>\n",
       "      <td>Sports</td>\n",
       "      <td>N</td>\n",
       "      <td>2012</td>\n",
       "      <td>9</td>\n",
       "      <td>11</td>\n",
       "    </tr>\n",
       "  </tbody>\n",
       "</table>\n",
       "</div>"
      ],
      "text/plain": [
       "   Unnamed: 0 score_phrase                                              title  \\\n",
       "0           0      Amazing                            LittleBigPlanet PS Vita   \n",
       "1           1      Amazing  LittleBigPlanet PS Vita -- Marvel Super Hero E...   \n",
       "2           2        Great                               Splice: Tree of Life   \n",
       "3           3        Great                                             NHL 13   \n",
       "4           4        Great                                             NHL 13   \n",
       "\n",
       "                                                 url          platform  score  \\\n",
       "0             /games/littlebigplanet-vita/vita-98907  PlayStation Vita    9.0   \n",
       "1  /games/littlebigplanet-ps-vita-marvel-super-he...  PlayStation Vita    9.0   \n",
       "2                          /games/splice/ipad-141070              iPad    8.5   \n",
       "3                      /games/nhl-13/xbox-360-128182          Xbox 360    8.5   \n",
       "4                           /games/nhl-13/ps3-128181     PlayStation 3    8.5   \n",
       "\n",
       "        genre editors_choice  release_year  release_month  release_day  \n",
       "0  Platformer              Y          2012              9           12  \n",
       "1  Platformer              Y          2012              9           12  \n",
       "2      Puzzle              N          2012              9           12  \n",
       "3      Sports              N          2012              9           11  \n",
       "4      Sports              N          2012              9           11  "
      ]
     },
     "execution_count": 27,
     "metadata": {},
     "output_type": "execute_result"
    }
   ],
   "source": [
    "data.head()"
   ]
  },
  {
   "cell_type": "code",
   "execution_count": 28,
   "metadata": {
    "scrolled": false
   },
   "outputs": [
    {
     "name": "stdout",
     "output_type": "stream",
     "text": [
      "{1970: 1, 1996: 149, 1997: 205, 1998: 339, 1999: 775, 2000: 1045, 2001: 688, 2002: 936, 2003: 969, 2004: 997, 2005: 1088, 2006: 1208, 2007: 1610, 2008: 1915, 2009: 1687, 2010: 1363, 2011: 1073, 2012: 753, 2013: 696, 2014: 537, 2015: 365, 2016: 226}\n",
      "The year that had most of the releases is: 2008\n"
     ]
    }
   ],
   "source": [
    "sum1=0\n",
    "dict1={}\n",
    "data2=data[['title','release_year']]\n",
    "for name, value in data2.groupby(data2['release_year']):\n",
    "    x=0\n",
    "    a=list(value['title'].value_counts())\n",
    "    x=sum(a)\n",
    "    dict1[name]=x\n",
    "print(dict1)\n",
    "z=max(dict1.values())\n",
    "for key in dict1:\n",
    "    if(dict1[key]==z):\n",
    "        print('The year that had most of the releases is:',key)\n"
   ]
  },
  {
   "cell_type": "markdown",
   "metadata": {},
   "source": [
    "## Plots"
   ]
  },
  {
   "cell_type": "markdown",
   "metadata": {},
   "source": [
    "## 1.Bar graph of score category"
   ]
  },
  {
   "cell_type": "code",
   "execution_count": 29,
   "metadata": {},
   "outputs": [
    {
     "data": {
      "image/png": "iVBORw0KGgoAAAANSUhEUgAAAW4AAAD4CAYAAADM6gxlAAAABHNCSVQICAgIfAhkiAAAAAlwSFlzAAALEgAACxIB0t1+/AAAADl0RVh0U29mdHdhcmUAbWF0cGxvdGxpYiB2ZXJzaW9uIDMuMC4yLCBodHRwOi8vbWF0cGxvdGxpYi5vcmcvOIA7rQAAChhJREFUeJzt3F+IZvddx/HPtzumNvUv7CDtbu1WLJUqYtuhVQNS24LRSOtFL1JtxYLujbGpChoVCV4IvRD/XIiwpA2ItQFjwaLSWowpVCFkdhuMybZaa2zXNDoFafxTTNN8vZgJEzczO8+afebZ7+zrBcvuc86Z2S8/dt9z5sw5T3V3AJjjeaseAIDLI9wAwwg3wDDCDTCMcAMMI9wAwwg3wDDCDTCMcAMMs7aMT3r8+PE+derUMj41wJF09uzZL3T3+iLHLiXcp06dyubm5jI+NcCRVFX/vOixLpUADCPcAMMIN8Awwg0wjHADDCPcAMMIN8Awwg0wzFIewHmuTt32Z6seIUnyyHtuWvUI1gJ4FmfcAMMIN8Awwg0wjHADDCPcAMMIN8Awwg0wjHADDCPcAMMIN8Awwg0wzFX5XiWwF+/bssta7LoW18IZN8Awwg0wjHADDCPcAMMIN8Awwg0wjHADDLNQuKvqZ6vqoar6u6r6QFV99bIHA2BvB4a7qk4keVeSje7+jiTHkty87MEA2Nuil0rWkrygqtaSXJ/k0eWNBMClHBju7v6XJL+R5LNJPp/ki939FxcfV1Wnq2qzqja3trau/KQAJFnsUsk3JnlLkpcleXGSF1bV2y8+rrvPdPdGd2+sr69f+UkBSLLYpZI3Jfmn7t7q7i8n+WCS713uWADsZ5FwfzbJd1fV9VVVSd6Y5PxyxwJgP4tc474vyd1JziV5cOdjzix5LgD2sdD7cXf37UluX/IsACzAk5MAwwg3wDDCDTCMcAMMI9wAwwg3wDDCDTCMcAMMI9wAwwg3wDDCDTCMcAMMI9wAwwg3wDDCDTCMcAMMI9wAwwg3wDDCDTCMcAMMI9wAwwg3wDDCDTCMcAMMI9wAwwg3wDDCDTCMcAMMI9wAwwg3wDDCDTCMcAMMI9wAwwg3wDDCDTCMcAMMI9wAwywU7qr6hqq6u6o+WVXnq+p7lj0YAHtbW/C430ny4e5+a1Vdl+T6Jc4EwCUcGO6q+rok35fkJ5Kku59I8sRyxwJgP4tcKvmWJFtJ7qyqT1TVHVX1wosPqqrTVbVZVZtbW1tXfFAAti0S7rUkr07ye939qiT/leS2iw/q7jPdvdHdG+vr61d4TACetki4LyS50N337by+O9shB2AFDgx3dz+W5HNV9YqdTW9M8vBSpwJgX4veVfIzSd6/c0fJZ5K8c3kjAXApC4W7ux9IsrHkWQBYgCcnAYYRboBhhBtgGOEGGEa4AYYRboBhhBtgGOEGGEa4AYYRboBhhBtgGOEGGEa4AYYRboBhhBtgGOEGGEa4AYYRboBhhBtgGOEGGEa4AYYRboBhhBtgGOEGGEa4AYYRboBhhBtgGOEGGEa4AYYRboBhhBtgGOEGGEa4AYYRboBhhBtgGOEGGEa4AYZZONxVdayqPlFVf7rMgQC4tMs54741yfllDQLAYhYKd1WdTHJTkjuWOw4AB1n0jPu3k/xCkqf2O6CqTlfVZlVtbm1tXZHhAHi2A8NdVT+c5N+6++yljuvuM9290d0b6+vrV2xAAP6vRc64b0jy5qp6JMldSd5QVX+w1KkA2NeB4e7uX+ruk919KsnNSe7p7rcvfTIA9uQ+boBh1i7n4O6+N8m9S5kEgIU44wYYRrgBhhFugGGEG2AY4QYYRrgBhhFugGGEG2AY4QYYRrgBhhFugGGEG2AY4QYYRrgBhhFugGGEG2AY4QYYRrgBhhFugGGEG2AY4QYYRrgBhhFugGGEG2AY4QYYRrgBhhFugGGEG2AY4QYYRrgBhhFugGGEG2AY4QYYRrgBhhFugGGEG2AY4QYY5sBwV9VLquqvqup8VT1UVbcexmAA7G1tgWOeTPLz3X2uqr42ydmq+mh3P7zk2QDYw4Fn3N39+e4+t/Pn/0hyPsmJZQ8GwN4u6xp3VZ1K8qok9+2x73RVbVbV5tbW1pWZDoBnWTjcVfU1Sf44ybu7+/GL93f3me7e6O6N9fX1KzkjAM+wULir6quyHe33d/cHlzsSAJeyyF0lleS9Sc53928ufyQALmWRM+4bkrwjyRuq6oGdXz+05LkA2MeBtwN298eT1CHMAsACPDkJMIxwAwwj3ADDCDfAMMINMIxwAwwj3ADDCDfAMMINMIxwAwwj3ADDCDfAMMINMIxwAwwj3ADDCDfAMMINMIxwAwwj3ADDCDfAMMINMIxwAwwj3ADDCDfAMMINMIxwAwwj3ADDCDfAMMINMIxwAwwj3ADDCDfAMMINMIxwAwwj3ADDCDfAMMINMMxC4a6qG6vqU1X16aq6bdlDAbC/A8NdVceS/G6SH0zyyiRvq6pXLnswAPa2yBn3a5N8urs/091PJLkryVuWOxYA+6nuvvQBVW9NcmN3/+TO63ckeV1333LRcaeTnN55+Yokn7ry416W40m+sOIZrhbWYpe12GUtdl0Na/HS7l5f5MC1BY6pPbY9q/bdfSbJmUX+0sNQVZvdvbHqOa4G1mKXtdhlLXZNW4tFLpVcSPKSZ7w+meTR5YwDwEEWCff9SV5eVS+rquuS3JzkQ8sdC4D9HHippLufrKpbknwkybEk7+vuh5Y+2XN31Vy2uQpYi13WYpe12DVqLQ784SQAVxdPTgIMI9wAwwg3wDCL3Mc9QlV9W7af6DyR7fvMH03yoe4+v9LB4CpRVa9N0t19/87bVtyY5JPd/ecrHm2lqur3u/vHVz3H5TgSP5ysql9M8rZsP45/YWfzyWzfunhXd79nVbOxWjtf0E8kua+7//MZ22/s7g+vbrLDVVW3Z/v9htaSfDTJ65Lcm+RNST7S3b++uukOT1VdfCtzJfn+JPckSXe/+dCH+n84KuH++yTf3t1fvmj7dUke6u6Xr2ayq0tVvbO771z1HIelqt6V5KeTnE/yXUlu7e4/2dl3rrtfvcr5DlNVPZjtNXh+kseSnOzux6vqBdn+ovadKx3wkFTVuSQPJ7kj29+ZV5IPZPskL939sdVNt7ijco37qSQv3mP7i3b2se3XVj3AIfupJK/p7h9J8vokv1pVt+7s2+utHI6yJ7v7K93930n+sbsfT5Lu/lKurf8jG0nOJvmVJF/s7nuTfKm7PzYl2snRucb97iR/WVX/kORzO9u+Ocm3Jrll3486gqrqb/fbleSbDnOWq8Cxpy+PdPcjVfX6JHdX1Utz7YX7iaq6fifcr3l6Y1V9fa6hcHf3U0l+q6r+aOf3f83ADh6JSyVJUlXPy/Zb0J7I9n/KC0nu7+6vrHSwQ7bzD/EHkvz7xbuS/E137/WdyZFUVfck+bnufuAZ29aSvC/Jj3X3sZUNd8iq6vnd/T97bD+e5EXd/eAKxlq5qropyQ3d/curnuVyHJlws62q3pvkzu7++B77/rC7f3QFY61EVZ3M9iWCx/bYd0N3//UKxoLnTLgBhjkqP5wEuGYIN8Awwg0wjHADDPO/1iUvzFgVhEQAAAAASUVORK5CYII=\n",
      "text/plain": [
       "<Figure size 432x288 with 1 Axes>"
      ]
     },
     "metadata": {
      "needs_background": "light"
     },
     "output_type": "display_data"
    }
   ],
   "source": [
    "import matplotlib.pyplot as plt\n",
    "datascore=data['score'].head()\n",
    "datascore.plot(kind='bar')\n",
    "plt.show()"
   ]
  },
  {
   "cell_type": "markdown",
   "metadata": {},
   "source": [
    "## 2.Bar graph of editor choice"
   ]
  },
  {
   "cell_type": "code",
   "execution_count": 30,
   "metadata": {},
   "outputs": [
    {
     "data": {
      "image/png": "iVBORw0KGgoAAAANSUhEUgAAAW4AAAD4CAYAAADM6gxlAAAABHNCSVQICAgIfAhkiAAAAAlwSFlzAAALEgAACxIB0t1+/AAAADl0RVh0U29mdHdhcmUAbWF0cGxvdGxpYiB2ZXJzaW9uIDMuMC4yLCBodHRwOi8vbWF0cGxvdGxpYi5vcmcvOIA7rQAAD1RJREFUeJzt3X+QVeV9x/H3F3Yj4I8k4JqqBNdMK44jImbBqh3axLiYEM1MJ87ojE5xmqwZG0PaxgrTP5z+0Y4zZtr6R8aZrTW0ozVWG6dtNBadatWOKIsxooKaGENXom7sREClin77x94NCLvcg9xzL8/u+zWzw73nPpz9cIAPh+eec5/ITCRJ5ZjW6QCSpANjcUtSYSxuSSqMxS1JhbG4JakwFrckFcbilqTCWNySVBiLW5IK01XHTo8++ujs7e2tY9eSNClt2LDhl5nZU2VsLcXd29vL0NBQHbuWpEkpIn5edaxTJZJUGItbkgpjcUtSYWqZ45akZt59912Gh4fZuXNnp6O01YwZM5g7dy7d3d0feh8Wt6SOGB4e5sgjj6S3t5eI6HSctshMXn/9dYaHhznxxBM/9H6cKpHUETt37mTOnDlTprQBIoI5c+Yc9P8yLG5JHTOVSntMK37NFrckFeaQnOPuXXV3pyMA8NJ1yzsdwWOxB4/F5Nbq39/J/PvkGbcktcCuXbva9r0sbklT1ptvvsny5ctZuHAhp556Krfffjvr16/n7LPPZuHChSxZsoTt27ezc+dOLr/8chYsWMCiRYt44IEHAFizZg0XXXQRF1xwAf39/QBcf/31LF68mNNOO41rr722ltyH5FSJJLXDvffey3HHHcfdd49O07zxxhssWrSI22+/ncWLF7Nt2zZmzpzJDTfcAMDGjRvZvHkz/f39PP/88wA8+uijPPXUU8yePZu1a9fywgsv8Pjjj5OZXHjhhTz00EMsXbq0pbk945Y0ZS1YsID777+fa665hocffpgtW7Zw7LHHsnjxYgCOOuoourq6eOSRR7jssssAOPnkkznhhBN+XdznnXces2fPBmDt2rWsXbuWRYsWccYZZ7B582ZeeOGFluf2jFvSlHXSSSexYcMG7rnnHlavXk1/f/+4l+tl5oT7OPzwwz8wbvXq1VxxxRW15B3jGbekKWvr1q3MmjWLSy+9lG9961usW7eOrVu3sn79egC2b9/Orl27WLp0KbfeeisAzz//PFu2bGH+/Pn77G/ZsmXcfPPN7NixA4CXX36Z1157reW5PeOWdEjoxOV7Gzdu5Oqrr2batGl0d3dz4403kplcddVVvP3228ycOZP777+fK6+8kq997WssWLCArq4u1qxZw2GHHbbP/vr7+9m0aRNnnXUWAEcccQS33HILxxxzTEtzW9ySpqxly5axbNmyfbavW7dun21r1qzZZ9uKFStYsWLFB7atXLmSlStXtiriuCpNlUTEH0fEMxHxdETcFhEzak0lSZpQ0+KOiOOBbwB9mXkqMB24uO5gkqTxVX1zsguYGRFdwCxga32RJE0V+7taY7Jqxa+5aXFn5svAt4EtwC+ANzJz7UF/Z0lT2owZM3j99denVHmPfR73jBkHN9vc9M3JiPg48CXgROBXwB0RcWlm3rLXuAFgAGDevHkHFUrS5Dd37lyGh4cZGRnpdJS2GlsB52BUuarkc8DPMnMEICK+D5wNfKC4M3MQGATo6+ubOv+ESvpQuru7D2oVmKmsyhz3FuC3I2JWjN5SdC6wqd5YkqSJVJnjfgy4E3gC2Nj4OYM155IkTaDSDTiZeS1Qz+cTSpIOiJ9VIkmFsbglqTAWtyQVxuKWpMJY3JJUGItbkgpjcUtSYSxuSSqMxS1JhbG4JakwFrckFcbilqTCWNySVBiLW5IKY3FLUmEsbkkqTNPijoj5EfHkHl/bIuKb7QgnSdpX0xVwMvM54HSAiJgOvAzcVXMuSdIEDnSq5Fzgp5n58zrCSJKaq7Tm5B4uBm4b74WIGAAGAObNm3eQsSTtT++quzsdAYCXrlve6QhTUuUz7oj4CHAhcMd4r2fmYGb2ZWZfT09Pq/JJkvZyIFMlnweeyMxX6wojSWruQIr7EiaYJpEktU+l4o6IWcB5wPfrjSNJaqbSm5OZ+RYwp+YskqQKvHNSkgpjcUtSYSxuSSqMxS1JhbG4JakwFrckFcbilqTCWNySVBiLW5IKY3FLUmEsbkkqjMUtSYWxuCWpMBa3JBXG4pakwlRdSOFjEXFnRGyOiE0RcVbdwSRJ46u6yvsNwL2Z+eXGosGzaswkSdqPpsUdEUcBS4EVAJn5DvBOvbEkSROpMlXyKWAE+G5E/CgiboqIw/ceFBEDETEUEUMjIyMtDypJGlWluLuAM4AbM3MR8Cawau9BmTmYmX2Z2dfT09PimJKkMVWKexgYzszHGs/vZLTIJUkd0LS4M/MV4H8iYn5j07nAs7WmkiRNqOpVJVcBtzauKHkRuLy+SJKk/alU3Jn5JNBXcxZJUgXeOSlJhbG4JakwFrckFcbilqTCWNySVBiLW5IKY3FLUmEsbkkqjMUtSYWxuCWpMBa3JBXG4pakwljcklQYi1uSCmNxS1JhKn0ed0S8BGwH3gN2ZaafzS1JHVJ1BRyAz2TmL2tLIkmqxKkSSSpM1eJOYG1EbIiIgToDSZL2r+pUyTmZuTUijgHui4jNmfnQngMahT4AMG/evBbHlCSNqXTGnZlbGz++BtwFLBlnzGBm9mVmX09PT2tTSpJ+rWlxR8ThEXHk2GOgH3i67mCSpPFVmSr5BHBXRIyN/6fMvLfWVJKkCTUt7sx8EVjYhiySpAq8HFCSCmNxS1JhLG5JKozFLUmFsbglqTAWtyQVxuKWpMJY3JJUGItbkgpjcUtSYSxuSSqMxS1JhbG4JakwFrckFcbilqTCWNySVJjKxR0R0yPiRxHxgzoDSZL270DOuFcCm+oKIkmqplJxR8RcYDlwU71xJEnNVD3j/lvgz4D3JxoQEQMRMRQRQyMjIy0JJ0naV9PijogvAq9l5ob9jcvMwczsy8y+np6elgWUJH1QlTPuc4ALI+Il4HvAZyPillpTSZIm1LS4M3N1Zs7NzF7gYuA/M/PS2pNJksblddySVJiuAxmcmQ8CD9aSRJJUiWfcklQYi1uSCmNxS1JhLG5JKozFLUmFsbglqTAWtyQVxuKWpMJY3JJUGItbkgpjcUtSYSxuSSqMxS1JhbG4JakwFrckFabKmpMzIuLxiPhxRDwTEX/RjmCSpPFVWUjh/4DPZuaOiOgGHomIH2bmupqzSZLG0bS4MzOBHY2n3Y2vrDOUJGlilZYui4jpwAbgN4HvZOZj44wZAAYA5s2b18qMkjSh3lV3dzoCAC9dt7xt36vSm5OZ+V5mng7MBZZExKnjjBnMzL7M7Ovp6Wl1TklSwwFdVZKZv2J0seDza0kjSWqqylUlPRHxscbjmcDngM11B5Mkja/KHPexwD805rmnAf+cmT+oN5YkaSJVrip5CljUhiySpAq8c1KSCmNxS1JhLG5JKozFLUmFsbglqTAWtyQVxuKWpMJY3JJUGItbkgpjcUtSYSxuSSqMxS1JhbG4JakwFrckFcbilqTCVFkB55MR8UBEbIqIZyJiZTuCSZLGV2UFnF3An2bmExFxJLAhIu7LzGdrziZJGkfTM+7M/EVmPtF4vB3YBBxfdzBJ0vgOaI47InoZXcbssTrCSJKaq1zcEXEE8C/ANzNz2zivD0TEUEQMjYyMtDKjJGkPlYo7IroZLe1bM/P7443JzMHM7MvMvp6enlZmlCTtocpVJQH8PbApM/+6/kiSpP2pcsZ9DnAZ8NmIeLLx9YWac0mSJtD0csDMfASINmSRJFXgnZOSVBiLW5IKY3FLUmEsbkkqjMUtSYWxuCWpMBa3JBXG4pakwljcklQYi1uSCmNxS1JhLG5JKozFLUmFsbglqTAWtyQVxuKWpMJUWbrs5oh4LSKebkcgSdL+VTnjXgOcX3MOSVJFTYs7Mx8C/rcNWSRJFbRsjjsiBiJiKCKGRkZGWrVbSdJeWlbcmTmYmX2Z2dfT09Oq3UqS9uJVJZJUGItbkgpT5XLA24BHgfkRMRwRf1h/LEnSRLqaDcjMS9oRRJJUjVMlklQYi1uSCmNxS1JhLG5JKozFLUmFsbglqTAWtyQVxuKWpMJY3JJUGItbkgpjcUtSYSxuSSqMxS1JhbG4JakwFrckFaZScUfE+RHxXET8JCJW1R1KkjSxKivgTAe+A3weOAW4JCJOqTuYJGl8Vc64lwA/ycwXM/Md4HvAl+qNJUmaSGTm/gdEfBk4PzO/0nh+GXBmZn59r3EDwEDj6XzgudbHPSBHA7/scIZDhcdiN4/Fbh6L3Q6FY3FCZvZUGdh0zUkgxtm2T9tn5iAwWOWbtkNEDGVmX6dzHAo8Frt5LHbzWOxW2rGoMlUyDHxyj+dzga31xJEkNVOluNcDvxURJ0bER4CLgX+rN5YkaSJNp0oyc1dEfB34D2A6cHNmPlN7soN3yEzbHAI8Frt5LHbzWOxW1LFo+uakJOnQ4p2TklQYi1uSCmNxS1JhLO5JKCKWRMTixuNTIuJPIuILnc7VaRHxj53OILVClRtwihARJwPHA49l5o49tp+fmfd2Lll7RcS1jH6uTFdE3AecCTwIrIqIRZn5l53M1y4RsfclqwF8JiI+BpCZF7Y/1aEjIn6H0Y+zeDoz13Y6TztFxJnApszcFhEzgVXAGcCzwF9l5hsdDVjBpLiqJCK+AfwRsAk4HViZmf/aeO2JzDyjk/naKSI2MnoMDgNeAebu8Qf0scw8raMB2yQinmD0L+JNjN7pG8BtjN6HQGb+V+fStV9EPJ6ZSxqPv8ro35e7gH7g3zPzuk7ma6eIeAZY2LjUeRB4C7gTOLex/fc7GrCCyXLG/VXg05m5IyJ6gTsjojczb2D8W/Yns12Z+R7wVkT8NDO3AWTm2xHxfoeztVMfsBL4c+DqzHwyIt6eaoW9h+49Hg8A52XmSER8G1gHTJniBqZl5q7G4749TuweiYgnOxXqQEyW4p4+Nj2SmS9FxO8xWt4nMPWK+52ImJWZbwGfHtsYER8FpkxxZ+b7wN9ExB2NH19l8vx5/zCmRcTHGX1fKzJzBCAz34yIXfv/qZPO0xFxeWZ+F/hxRPRl5lBEnAS82+lwVUyWNydfiYjTx540SvyLjH7i14KOpeqMpY3SHiuvMd3AH3QmUudk5nBmXgT8ELil03k66KPABmAImB0RvwEQEUcw9U5uvgL8bkT8lNE1Bh6NiBeBv2u8dsibLHPccxmdInhlnNfOycz/7kAs6ZAXEbOAT2Tmzzqdpd0i4kjgU4z+T2w4M1/tcKTKJkVxS9JUMlmmSiRpyrC4JakwFrckFcbilqTC/D+RReZyFDSosgAAAABJRU5ErkJggg==\n",
      "text/plain": [
       "<Figure size 432x288 with 1 Axes>"
      ]
     },
     "metadata": {
      "needs_background": "light"
     },
     "output_type": "display_data"
    },
    {
     "data": {
      "image/png": "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\n",
      "text/plain": [
       "<Figure size 432x288 with 1 Axes>"
      ]
     },
     "metadata": {
      "needs_background": "light"
     },
     "output_type": "display_data"
    }
   ],
   "source": [
    "data2=data[['editors_choice','score']]\n",
    "for i, j in data2.groupby(data2['editors_choice']):\n",
    "    b=j.head()\n",
    "    a=b.plot(kind='bar')\n",
    "    #plt.show()\n",
    "#dataeditor.plot(kind='bar')\n",
    "plt.show()"
   ]
  },
  {
   "cell_type": "markdown",
   "metadata": {},
   "source": [
    "## 3.Bar graph of genre"
   ]
  },
  {
   "cell_type": "code",
   "execution_count": 32,
   "metadata": {},
   "outputs": [
    {
     "data": {
      "image/png": "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\n",
      "text/plain": [
       "<Figure size 2880x288 with 1 Axes>"
      ]
     },
     "metadata": {
      "needs_background": "light"
     },
     "output_type": "display_data"
    }
   ],
   "source": [
    "import matplotlib.pyplot as plt\n",
    "D={}\n",
    "data2=data[['genre', 'score']]\n",
    "for i, j in data2.groupby(data['genre']):\n",
    "    D[i]=j['score'].mean()\n",
    "plt.figure(figsize=[40,4])\n",
    "plt.bar(range(len(D)), list(D.values()), align='center')\n",
    "plt.xticks(range(len(D)), list(D.keys()))\n",
    "plt.show()"
   ]
  }
 ],
 "metadata": {
  "kernelspec": {
   "display_name": "Python 3",
   "language": "python",
   "name": "python3"
  },
  "language_info": {
   "codemirror_mode": {
    "name": "ipython",
    "version": 3
   },
   "file_extension": ".py",
   "mimetype": "text/x-python",
   "name": "python",
   "nbconvert_exporter": "python",
   "pygments_lexer": "ipython3",
   "version": "3.6.0"
  }
 },
 "nbformat": 4,
 "nbformat_minor": 2
}
